{
 "cells": [
  {
   "cell_type": "code",
   "execution_count": 49,
   "metadata": {},
   "outputs": [],
   "source": [
    "from urllib.request import urlopen as uReq\n",
    "from bs4 import BeautifulSoup\n",
    "url = \"https://www.flipkart.com/watches/pr?sid=r18&p%5B%5D=sort%3Dpopularity&p%5B%5D=facets.ideal_for%255B%255D%3DMen&p%5B%5D=facets.ideal_for%255B%255D%3DBoys&p%5B%5D=facets.discount_range_v1%255B%255D%3D20%2525%2Bor%2BMore&p%5B%5D=facets.brand%255B%255D%3DTommy%2BHilfiger&p%5B%5D=facets.brand%255B%255D%3DTitan&p%5B%5D=facets.brand%255B%255D%3DTimberland&p%5B%5D=facets.brand%255B%255D%3DSonata&p%5B%5D=facets.brand%255B%255D%3DSkagen&p%5B%5D=facets.brand%255B%255D%3DPolice&p%5B%5D=facets.brand%255B%255D%3DMicheal%2BKors&p%5B%5D=facets.brand%255B%255D%3DMichael%2BKors&p%5B%5D=facets.brand%255B%255D%3DMaxima&p%5B%5D=facets.brand%255B%255D%3DMICHAELKORS&p%5B%5D=facets.brand%255B%255D%3DFrench%2BConnection&p%5B%5D=facets.brand%255B%255D%3DFossil&p%5B%5D=facets.brand%255B%255D%3DFastrack&p%5B%5D=facets.brand%255B%255D%3DFCUK&p%5B%5D=facets.brand%255B%255D%3DEmporio%2BArmani&p%5B%5D=facets.brand%255B%255D%3DDiesel&p%5B%5D=facets.brand%255B%255D%3DDaniel%2BKlein&p%5B%5D=facets.brand%255B%255D%3DDKNY&p%5B%5D=facets.brand%255B%255D%3DChaps&p%5B%5D=facets.brand%255B%255D%3DCasio&p%5B%5D=facets.brand%255B%255D%3DCHAPS%2Bby%2BFossil&p%5B%5D=facets.brand%255B%255D%3DCHAPS&p%5B%5D=facets.brand%255B%255D%3DArmani%2BExchange&p%5B%5D=facets.brand%255B%255D%3DArmani&p%5B%5D=facets.brand%255B%255D%3DARMANI%2BEXCHANGE&wid=8.productCard.PMU_V2\"\n",
    "uClient = uReq(url)\n",
    "html = uClient.read()\n",
    "uClient.close()\n",
    "soup = BeautifulSoup(html, \"html.parser\")"
   ]
  },
  {
   "cell_type": "code",
   "execution_count": 50,
   "metadata": {},
   "outputs": [
    {
     "data": {
      "text/plain": [
       "40"
      ]
     },
     "execution_count": 50,
     "metadata": {},
     "output_type": "execute_result"
    }
   ],
   "source": [
    "containers = soup.find_all(\"div\", {\"class\":\"_3liAhj _1R0K0g\"})\n",
    "len(containers)"
   ]
  },
  {
   "cell_type": "code",
   "execution_count": 51,
   "metadata": {
    "scrolled": true
   },
   "outputs": [
    {
     "data": {
      "text/plain": [
       "'Sonata NH7987SM03CJ Watch  - For Men'"
      ]
     },
     "execution_count": 51,
     "metadata": {},
     "output_type": "execute_result"
    }
   ],
   "source": [
    "container = containers[0]\n",
    "name = container.div.img[\"alt\"]\n",
    "name"
   ]
  },
  {
   "cell_type": "code",
   "execution_count": 52,
   "metadata": {},
   "outputs": [
    {
     "data": {
      "text/plain": [
       "[<a class=\"Zhf2z-\" href=\"/sonata-nh7987sm03cj-watch-men/p/itmf3zhma9mzyff2?pid=WATDZ2ZQHKSDGGXG&amp;lid=LSTWATDZ2ZQHKSDGGXGBRE8FR&amp;marketplace=FLIPKART&amp;srno=b_1_1&amp;otracker=browse&amp;fm=organic&amp;iid=a3bef4a5-8d97-4f2f-9a56-35ae2d4ad38c.WATDZ2ZQHKSDGGXG.SEARCH\" rel=\"noopener noreferrer\" target=\"_blank\"><div><div><div class=\"_3BTv9X\" style=\"height:230px;width:230px\"><img alt=\"Sonata NH7987SM03CJ Watch  - For Men\" class=\"_1Nyybr\" src=\"//img1a.flixcart.com/www/linchpin/fk-cp-zion/img/placeholder_9951d0.svg\"/></div></div></div><div></div><div class=\"_3gDSOa _3iGnbq\"><div class=\"DsQ2eg\"><svg class=\"_2oLiqr\" height=\"16\" viewbox=\"0 0 20 16\" width=\"16\" xmlns=\"http://www.w3.org/2000/svg\"><path class=\"_35Y7Yo\" d=\"M8.695 16.682C4.06 12.382 1 9.536 1 6.065 1 3.219 3.178 1 5.95 1c1.566 0 3.069.746 4.05 1.915C10.981 1.745 12.484 1 14.05 1 16.822 1 19 3.22 19 6.065c0 3.471-3.06 6.316-7.695 10.617L10 17.897l-1.305-1.215z\" fill=\"#2874F0\" fill-rule=\"evenodd\" opacity=\".9\" stroke=\"#FFF\"></path></svg></div></div></a>,\n",
       " <a class=\"_2cLu-l\" href=\"/sonata-nh7987sm03cj-watch-men/p/itmf3zhma9mzyff2?pid=WATDZ2ZQHKSDGGXG&amp;lid=LSTWATDZ2ZQHKSDGGXGBRE8FR&amp;marketplace=FLIPKART&amp;srno=b_1_1&amp;otracker=browse&amp;fm=organic&amp;iid=a3bef4a5-8d97-4f2f-9a56-35ae2d4ad38c.WATDZ2ZQHKSDGGXG.SEARCH\" rel=\"noopener noreferrer\" target=\"_blank\" title=\"Sonata NH7987SM03CJ Watch  - For Men\">Sonata NH7987SM03CJ Watch  - For Men</a>,\n",
       " <div class=\"niH0FQ _36Fcw_\"><span class=\"_2_KrJI\" id=\"productRating_LSTWATDZ2ZQHKSDGGXGBRE8FR_WATDZ2ZQHKSDGGXG_\"><div class=\"hGSR34 _2beYZw\">3.8<!-- --> ★</div></span><span class=\"_38sUEc\">(8,461)</span></div>,\n",
       " <div class=\"_3LWrw9\"><img height=\"21\" src=\"//img1a.flixcart.com/www/linchpin/fk-cp-zion/img/fa_8b4b59.png\"/></div>,\n",
       " <a class=\"_1Vfi6u\" href=\"/sonata-nh7987sm03cj-watch-men/p/itmf3zhma9mzyff2?pid=WATDZ2ZQHKSDGGXG&amp;lid=LSTWATDZ2ZQHKSDGGXGBRE8FR&amp;marketplace=FLIPKART&amp;srno=b_1_1&amp;otracker=browse&amp;fm=organic&amp;iid=a3bef4a5-8d97-4f2f-9a56-35ae2d4ad38c.WATDZ2ZQHKSDGGXG.SEARCH\" rel=\"noopener noreferrer\" target=\"_blank\"><div class=\"_1uv9Cb\"><div class=\"_1vC4OE\">₹480</div><div class=\"_3auQ3N\">₹<!-- -->600</div><div class=\"VGWI6T\"><span>20% off</span></div></div></a>,\n",
       " <div class=\"OPF9v4\"><span class=\"_1xZuAn\">Offers</span><span class=\"_3U7997\">No Cost EMI &amp; 1 More</span></div>]"
      ]
     },
     "execution_count": 52,
     "metadata": {},
     "output_type": "execute_result"
    }
   ],
   "source": [
    "container.contents"
   ]
  },
  {
   "cell_type": "code",
   "execution_count": 53,
   "metadata": {},
   "outputs": [
    {
     "data": {
      "text/plain": [
       "6"
      ]
     },
     "execution_count": 53,
     "metadata": {},
     "output_type": "execute_result"
    }
   ],
   "source": [
    "len(container.contents)"
   ]
  },
  {
   "cell_type": "code",
   "execution_count": 54,
   "metadata": {
    "scrolled": true
   },
   "outputs": [
    {
     "data": {
      "text/plain": [
       "<a class=\"_2cLu-l\" href=\"/sonata-nh7987sm03cj-watch-men/p/itmf3zhma9mzyff2?pid=WATDZ2ZQHKSDGGXG&amp;lid=LSTWATDZ2ZQHKSDGGXGBRE8FR&amp;marketplace=FLIPKART&amp;srno=b_1_1&amp;otracker=browse&amp;fm=organic&amp;iid=a3bef4a5-8d97-4f2f-9a56-35ae2d4ad38c.WATDZ2ZQHKSDGGXG.SEARCH\" rel=\"noopener noreferrer\" target=\"_blank\" title=\"Sonata NH7987SM03CJ Watch  - For Men\">Sonata NH7987SM03CJ Watch  - For Men</a>"
      ]
     },
     "execution_count": 54,
     "metadata": {},
     "output_type": "execute_result"
    }
   ],
   "source": [
    "container.contents[1]"
   ]
  },
  {
   "cell_type": "code",
   "execution_count": 55,
   "metadata": {},
   "outputs": [
    {
     "data": {
      "text/plain": [
       "'Sonata NH7987SM03CJ Watch  - For Men'"
      ]
     },
     "execution_count": 55,
     "metadata": {},
     "output_type": "execute_result"
    }
   ],
   "source": [
    "container.contents[1].text"
   ]
  },
  {
   "cell_type": "code",
   "execution_count": 56,
   "metadata": {},
   "outputs": [
    {
     "data": {
      "text/plain": [
       "'₹480₹60020% off'"
      ]
     },
     "execution_count": 56,
     "metadata": {},
     "output_type": "execute_result"
    }
   ],
   "source": [
    "container.contents[4].text"
   ]
  },
  {
   "cell_type": "code",
   "execution_count": 64,
   "metadata": {},
   "outputs": [
    {
     "data": {
      "text/plain": [
       "'₹1,740'"
      ]
     },
     "execution_count": 64,
     "metadata": {},
     "output_type": "execute_result"
    }
   ],
   "source": [
    "price_container = container.findAll(\"div\", {\"class\":\"_1vC4OE\"})\n",
    "price_container[0].text"
   ]
  },
  {
   "cell_type": "code",
   "execution_count": 58,
   "metadata": {},
   "outputs": [
    {
     "data": {
      "text/plain": [
       "'Rs.480'"
      ]
     },
     "execution_count": 58,
     "metadata": {},
     "output_type": "execute_result"
    }
   ],
   "source": [
    "price=price_container[0].text.strip()\n",
    "trim_price = ''.join(price.split(','))\n",
    "rm_rupee = trim_price.split(\"₹\")\n",
    "add_rs_price = \"Rs.\" + rm_rupee[1]\n",
    "add_rs_price\n",
    "\n",
    "    \n",
    "# split_price = add_rs_price.split(\"E\")\n",
    "# final_price = split_price[0]\n",
    "# final_price"
   ]
  },
  {
   "cell_type": "code",
   "execution_count": 59,
   "metadata": {
    "scrolled": false
   },
   "outputs": [
    {
     "data": {
      "text/plain": [
       "40"
      ]
     },
     "execution_count": 59,
     "metadata": {},
     "output_type": "execute_result"
    }
   ],
   "source": [
    "records = []\n",
    "for container in containers:\n",
    "    name = container.contents[1].text\n",
    "    price_container = container.findAll(\"div\", {\"class\":\"_1vC4OE\"})\n",
    "    price = price_container[0].text.strip()\n",
    "    \n",
    "    trim_price = ''.join(price.split(','))\n",
    "    rm_rupee = trim_price.split(\"₹\")\n",
    "    add_rs_price = \"Rs.\" + rm_rupee[1]\n",
    "    \n",
    "#     split_price = add_rs_price.split(\"E\")\n",
    "#     final_price = split_price[0]\n",
    "    \n",
    "    records.append((name,add_rs_price))\n",
    "len(records)"
   ]
  },
  {
   "cell_type": "code",
   "execution_count": 60,
   "metadata": {},
   "outputs": [
    {
     "data": {
      "text/html": [
       "<div>\n",
       "<style scoped>\n",
       "    .dataframe tbody tr th:only-of-type {\n",
       "        vertical-align: middle;\n",
       "    }\n",
       "\n",
       "    .dataframe tbody tr th {\n",
       "        vertical-align: top;\n",
       "    }\n",
       "\n",
       "    .dataframe thead th {\n",
       "        text-align: right;\n",
       "    }\n",
       "</style>\n",
       "<table border=\"1\" class=\"dataframe\">\n",
       "  <thead>\n",
       "    <tr style=\"text-align: right;\">\n",
       "      <th></th>\n",
       "      <th>name</th>\n",
       "      <th>price</th>\n",
       "    </tr>\n",
       "  </thead>\n",
       "  <tbody>\n",
       "    <tr>\n",
       "      <th>0</th>\n",
       "      <td>Sonata NH7987SM03CJ Watch  - For Men</td>\n",
       "      <td>Rs.480</td>\n",
       "    </tr>\n",
       "    <tr>\n",
       "      <th>1</th>\n",
       "      <td>Fossil BQ2125 FLYNN Watch  - For Men</td>\n",
       "      <td>Rs.5508</td>\n",
       "    </tr>\n",
       "    <tr>\n",
       "      <th>2</th>\n",
       "      <td>Sonata NH7924SL04C Yuva Watch  - For Men</td>\n",
       "      <td>Rs.700</td>\n",
       "    </tr>\n",
       "    <tr>\n",
       "      <th>3</th>\n",
       "      <td></td>\n",
       "      <td>Rs.3834</td>\n",
       "    </tr>\n",
       "    <tr>\n",
       "      <th>4</th>\n",
       "      <td>Sonata NH7930PP01CJ Watch  - For Men</td>\n",
       "      <td>Rs.460</td>\n",
       "    </tr>\n",
       "  </tbody>\n",
       "</table>\n",
       "</div>"
      ],
      "text/plain": [
       "                                       name    price\n",
       "0      Sonata NH7987SM03CJ Watch  - For Men   Rs.480\n",
       "1      Fossil BQ2125 FLYNN Watch  - For Men  Rs.5508\n",
       "2  Sonata NH7924SL04C Yuva Watch  - For Men   Rs.700\n",
       "3                                            Rs.3834\n",
       "4      Sonata NH7930PP01CJ Watch  - For Men   Rs.460"
      ]
     },
     "execution_count": 60,
     "metadata": {},
     "output_type": "execute_result"
    }
   ],
   "source": [
    "import pandas as pd\n",
    "df = pd.DataFrame(records, columns = ['name', 'price'])\n",
    "df.head()"
   ]
  },
  {
   "cell_type": "code",
   "execution_count": 62,
   "metadata": {},
   "outputs": [],
   "source": [
    "df.to_csv('watch.csv', index=False, encoding='utf-8')"
   ]
  },
  {
   "cell_type": "code",
   "execution_count": null,
   "metadata": {},
   "outputs": [],
   "source": []
  }
 ],
 "metadata": {
  "kernelspec": {
   "display_name": "Python [default]",
   "language": "python",
   "name": "python3"
  },
  "language_info": {
   "codemirror_mode": {
    "name": "ipython",
    "version": 3
   },
   "file_extension": ".py",
   "mimetype": "text/x-python",
   "name": "python",
   "nbconvert_exporter": "python",
   "pygments_lexer": "ipython3",
   "version": "3.6.5"
  }
 },
 "nbformat": 4,
 "nbformat_minor": 2
}
