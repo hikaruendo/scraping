{
 "cells": [
  {
   "cell_type": "code",
   "execution_count": 185,
   "metadata": {},
   "outputs": [],
   "source": [
    "from urllib.request import urlopen as uReq\n",
    "from bs4 import BeautifulSoup\n",
    "url = \"https://www.flipkart.com/watches/pr?sid=r18&p%5B%5D=sort%3Dpopularity&p%5B%5D=facets.ideal_for%255B%255D%3DMen&p%5B%5D=facets.ideal_for%255B%255D%3DBoys&p%5B%5D=facets.discount_range_v1%255B%255D%3D20%2525%2Bor%2BMore&p%5B%5D=facets.brand%255B%255D%3DTommy%2BHilfiger&p%5B%5D=facets.brand%255B%255D%3DTitan&p%5B%5D=facets.brand%255B%255D%3DTimberland&p%5B%5D=facets.brand%255B%255D%3DSonata&p%5B%5D=facets.brand%255B%255D%3DSkagen&p%5B%5D=facets.brand%255B%255D%3DPolice&p%5B%5D=facets.brand%255B%255D%3DMicheal%2BKors&p%5B%5D=facets.brand%255B%255D%3DMichael%2BKors&p%5B%5D=facets.brand%255B%255D%3DMaxima&p%5B%5D=facets.brand%255B%255D%3DMICHAELKORS&p%5B%5D=facets.brand%255B%255D%3DFrench%2BConnection&p%5B%5D=facets.brand%255B%255D%3DFossil&p%5B%5D=facets.brand%255B%255D%3DFastrack&p%5B%5D=facets.brand%255B%255D%3DFCUK&p%5B%5D=facets.brand%255B%255D%3DEmporio%2BArmani&p%5B%5D=facets.brand%255B%255D%3DDiesel&p%5B%5D=facets.brand%255B%255D%3DDaniel%2BKlein&p%5B%5D=facets.brand%255B%255D%3DDKNY&p%5B%5D=facets.brand%255B%255D%3DChaps&p%5B%5D=facets.brand%255B%255D%3DCasio&p%5B%5D=facets.brand%255B%255D%3DCHAPS%2Bby%2BFossil&p%5B%5D=facets.brand%255B%255D%3DCHAPS&p%5B%5D=facets.brand%255B%255D%3DArmani%2BExchange&p%5B%5D=facets.brand%255B%255D%3DArmani&p%5B%5D=facets.brand%255B%255D%3DARMANI%2BEXCHANGE&wid=8.productCard.PMU_V2\"\n",
    "uClient = uReq(url)\n",
    "html = uClient.read()\n",
    "uClient.close()\n",
    "soup = BeautifulSoup(html, \"html.parser\")"
   ]
  },
  {
   "cell_type": "code",
   "execution_count": 186,
   "metadata": {},
   "outputs": [
    {
     "data": {
      "text/plain": [
       "40"
      ]
     },
     "execution_count": 186,
     "metadata": {},
     "output_type": "execute_result"
    }
   ],
   "source": [
    "containers = soup.find_all(\"div\", {\"class\":\"_3liAhj _1R0K0g\"})\n",
    "len(containers)"
   ]
  },
  {
   "cell_type": "code",
   "execution_count": 192,
   "metadata": {
    "scrolled": true
   },
   "outputs": [
    {
     "data": {
      "text/plain": [
       "'Sonata NH7987SM03CJ Watch  - For Men'"
      ]
     },
     "execution_count": 192,
     "metadata": {},
     "output_type": "execute_result"
    }
   ],
   "source": [
    "container = containers[0]\n",
    "name = container.div.img[\"alt\"]\n",
    "name"
   ]
  },
  {
   "cell_type": "code",
   "execution_count": 193,
   "metadata": {
    "scrolled": true
   },
   "outputs": [
    {
     "data": {
      "text/plain": [
       "<div class=\"_3liAhj _1R0K0g\"><a class=\"Zhf2z-\" href=\"/sonata-nh7987sm03cj-watch-men/p/itmf3zhma9mzyff2?pid=WATDZ2ZQHKSDGGXG&amp;lid=LSTWATDZ2ZQHKSDGGXGBRE8FR&amp;marketplace=FLIPKART&amp;srno=b_1_1&amp;otracker=browse&amp;fm=organic&amp;iid=427f8b74-858b-412d-b546-f06f44afe455.WATDZ2ZQHKSDGGXG.SEARCH\" rel=\"noopener noreferrer\" target=\"_blank\"><div><div><div class=\"_3BTv9X\" style=\"height:230px;width:230px\"><img alt=\"Sonata NH7987SM03CJ Watch  - For Men\" class=\"_1Nyybr\" src=\"//img1a.flixcart.com/www/linchpin/fk-cp-zion/img/placeholder_9951d0.svg\"/></div></div></div><div></div><div class=\"_3gDSOa _3iGnbq\"><div class=\"DsQ2eg\"><svg class=\"_2oLiqr\" height=\"16\" viewbox=\"0 0 20 16\" width=\"16\" xmlns=\"http://www.w3.org/2000/svg\"><path class=\"_35Y7Yo\" d=\"M8.695 16.682C4.06 12.382 1 9.536 1 6.065 1 3.219 3.178 1 5.95 1c1.566 0 3.069.746 4.05 1.915C10.981 1.745 12.484 1 14.05 1 16.822 1 19 3.22 19 6.065c0 3.471-3.06 6.316-7.695 10.617L10 17.897l-1.305-1.215z\" fill=\"#2874F0\" fill-rule=\"evenodd\" opacity=\".9\" stroke=\"#FFF\"></path></svg></div></div></a><a class=\"_2cLu-l\" href=\"/sonata-nh7987sm03cj-watch-men/p/itmf3zhma9mzyff2?pid=WATDZ2ZQHKSDGGXG&amp;lid=LSTWATDZ2ZQHKSDGGXGBRE8FR&amp;marketplace=FLIPKART&amp;srno=b_1_1&amp;otracker=browse&amp;fm=organic&amp;iid=427f8b74-858b-412d-b546-f06f44afe455.WATDZ2ZQHKSDGGXG.SEARCH\" rel=\"noopener noreferrer\" target=\"_blank\" title=\"Sonata NH7987SM03CJ Watch  - For Men\">Sonata NH7987SM03CJ Watch  - For Men</a><div class=\"niH0FQ _36Fcw_\"><span class=\"_2_KrJI\" id=\"productRating_LSTWATDZ2ZQHKSDGGXGBRE8FR_WATDZ2ZQHKSDGGXG_\"><div class=\"hGSR34 _2beYZw\">3.8<!-- --> ★</div></span><span class=\"_38sUEc\">(8,456)</span></div><div class=\"_3LWrw9\"><img height=\"21\" src=\"//img1a.flixcart.com/www/linchpin/fk-cp-zion/img/fa_8b4b59.png\"/></div><a class=\"_1Vfi6u\" href=\"/sonata-nh7987sm03cj-watch-men/p/itmf3zhma9mzyff2?pid=WATDZ2ZQHKSDGGXG&amp;lid=LSTWATDZ2ZQHKSDGGXGBRE8FR&amp;marketplace=FLIPKART&amp;srno=b_1_1&amp;otracker=browse&amp;fm=organic&amp;iid=427f8b74-858b-412d-b546-f06f44afe455.WATDZ2ZQHKSDGGXG.SEARCH\" rel=\"noopener noreferrer\" target=\"_blank\"><div class=\"_1uv9Cb\"><div class=\"_1vC4OE\">₹480</div><div class=\"_3auQ3N\">₹<!-- -->600</div><div class=\"VGWI6T\"><span>20% off</span></div></div></a><div class=\"OPF9v4\"><span class=\"_1xZuAn\">Offers</span><span class=\"_3U7997\">No Cost EMI</span></div></div>"
      ]
     },
     "execution_count": 193,
     "metadata": {},
     "output_type": "execute_result"
    }
   ],
   "source": [
    "container"
   ]
  },
  {
   "cell_type": "code",
   "execution_count": 194,
   "metadata": {},
   "outputs": [],
   "source": [
    "name_container =container.find(class_=\"_2cLu-1\")"
   ]
  },
  {
   "cell_type": "code",
   "execution_count": 195,
   "metadata": {},
   "outputs": [
    {
     "data": {
      "text/plain": [
       "<a class=\"_2cLu-l\" href=\"/sonata-nh7987sm03cj-watch-men/p/itmf3zhma9mzyff2?pid=WATDZ2ZQHKSDGGXG&amp;lid=LSTWATDZ2ZQHKSDGGXGBRE8FR&amp;marketplace=FLIPKART&amp;srno=b_1_1&amp;otracker=browse&amp;fm=organic&amp;iid=427f8b74-858b-412d-b546-f06f44afe455.WATDZ2ZQHKSDGGXG.SEARCH\" rel=\"noopener noreferrer\" target=\"_blank\" title=\"Sonata NH7987SM03CJ Watch  - For Men\">Sonata NH7987SM03CJ Watch  - For Men</a>"
      ]
     },
     "execution_count": 195,
     "metadata": {},
     "output_type": "execute_result"
    }
   ],
   "source": [
    "container.contents[1]"
   ]
  },
  {
   "cell_type": "code",
   "execution_count": 196,
   "metadata": {},
   "outputs": [],
   "source": [
    "name_container = container.findAll(\"div\", {\"class\":\"_2cLu-1\"})"
   ]
  },
  {
   "cell_type": "code",
   "execution_count": 197,
   "metadata": {},
   "outputs": [
    {
     "ename": "AttributeError",
     "evalue": "ResultSet object has no attribute 'text'. You're probably treating a list of items like a single item. Did you call find_all() when you meant to call find()?",
     "output_type": "error",
     "traceback": [
      "\u001b[1;31m---------------------------------------------------------------------------\u001b[0m",
      "\u001b[1;31mAttributeError\u001b[0m                            Traceback (most recent call last)",
      "\u001b[1;32m<ipython-input-197-3d3130e9e3c9>\u001b[0m in \u001b[0;36m<module>\u001b[1;34m()\u001b[0m\n\u001b[1;32m----> 1\u001b[1;33m \u001b[0mname\u001b[0m \u001b[1;33m=\u001b[0m \u001b[0mname_container\u001b[0m\u001b[1;33m.\u001b[0m\u001b[0mtext\u001b[0m\u001b[1;33m\u001b[0m\u001b[0m\n\u001b[0m\u001b[0;32m      2\u001b[0m \u001b[0mname\u001b[0m\u001b[1;33m\u001b[0m\u001b[0m\n",
      "\u001b[1;32m~\\Anaconda3\\lib\\site-packages\\bs4\\element.py\u001b[0m in \u001b[0;36m__getattr__\u001b[1;34m(self, key)\u001b[0m\n\u001b[0;32m   1882\u001b[0m     \u001b[1;32mdef\u001b[0m \u001b[0m__getattr__\u001b[0m\u001b[1;33m(\u001b[0m\u001b[0mself\u001b[0m\u001b[1;33m,\u001b[0m \u001b[0mkey\u001b[0m\u001b[1;33m)\u001b[0m\u001b[1;33m:\u001b[0m\u001b[1;33m\u001b[0m\u001b[0m\n\u001b[0;32m   1883\u001b[0m         raise AttributeError(\n\u001b[1;32m-> 1884\u001b[1;33m             \u001b[1;34m\"ResultSet object has no attribute '%s'. You're probably treating a list of items like a single item. Did you call find_all() when you meant to call find()?\"\u001b[0m \u001b[1;33m%\u001b[0m \u001b[0mkey\u001b[0m\u001b[1;33m\u001b[0m\u001b[0m\n\u001b[0m\u001b[0;32m   1885\u001b[0m         )\n",
      "\u001b[1;31mAttributeError\u001b[0m: ResultSet object has no attribute 'text'. You're probably treating a list of items like a single item. Did you call find_all() when you meant to call find()?"
     ]
    }
   ],
   "source": [
    "name = name_container.text\n",
    "name"
   ]
  },
  {
   "cell_type": "code",
   "execution_count": 198,
   "metadata": {},
   "outputs": [
    {
     "data": {
      "text/plain": [
       "'₹480'"
      ]
     },
     "execution_count": 198,
     "metadata": {},
     "output_type": "execute_result"
    }
   ],
   "source": [
    "price_container = container.findAll(\"div\", {\"class\":\"_1vC4OE\"})\n",
    "price_container[0].text.strip()"
   ]
  },
  {
   "cell_type": "code",
   "execution_count": 200,
   "metadata": {
    "scrolled": false
   },
   "outputs": [
    {
     "data": {
      "text/plain": [
       "40"
      ]
     },
     "execution_count": 200,
     "metadata": {},
     "output_type": "execute_result"
    }
   ],
   "source": [
    "records = []\n",
    "for container in containers:\n",
    "    name = container.contents[1].text\n",
    "    price_container = container.findAll(\"div\", {\"class\":\"_1vC4OE\"})\n",
    "    price = price_container[0].text.strip()\n",
    "    \n",
    "    records.append((name,price))\n",
    "len(records)"
   ]
  },
  {
   "cell_type": "code",
   "execution_count": 201,
   "metadata": {},
   "outputs": [
    {
     "data": {
      "text/html": [
       "<div>\n",
       "<style scoped>\n",
       "    .dataframe tbody tr th:only-of-type {\n",
       "        vertical-align: middle;\n",
       "    }\n",
       "\n",
       "    .dataframe tbody tr th {\n",
       "        vertical-align: top;\n",
       "    }\n",
       "\n",
       "    .dataframe thead th {\n",
       "        text-align: right;\n",
       "    }\n",
       "</style>\n",
       "<table border=\"1\" class=\"dataframe\">\n",
       "  <thead>\n",
       "    <tr style=\"text-align: right;\">\n",
       "      <th></th>\n",
       "      <th>name</th>\n",
       "      <th>price</th>\n",
       "    </tr>\n",
       "  </thead>\n",
       "  <tbody>\n",
       "    <tr>\n",
       "      <th>0</th>\n",
       "      <td>Sonata NH7987SM03CJ Watch  - For Men</td>\n",
       "      <td>₹480</td>\n",
       "    </tr>\n",
       "    <tr>\n",
       "      <th>1</th>\n",
       "      <td>Fastrack 3166KM01 All Nighters Watch  - For Men</td>\n",
       "      <td>₹2,280</td>\n",
       "    </tr>\n",
       "    <tr>\n",
       "      <th>2</th>\n",
       "      <td>Fossil BQ2125 FLYNN Watch  - For Men</td>\n",
       "      <td>₹5,508</td>\n",
       "    </tr>\n",
       "    <tr>\n",
       "      <th>3</th>\n",
       "      <td></td>\n",
       "      <td>₹3,834</td>\n",
       "    </tr>\n",
       "    <tr>\n",
       "      <th>4</th>\n",
       "      <td>Sonata NF7924NL01C Watch  - For Men</td>\n",
       "      <td>₹940</td>\n",
       "    </tr>\n",
       "  </tbody>\n",
       "</table>\n",
       "</div>"
      ],
      "text/plain": [
       "                                              name   price\n",
       "0             Sonata NH7987SM03CJ Watch  - For Men    ₹480\n",
       "1  Fastrack 3166KM01 All Nighters Watch  - For Men  ₹2,280\n",
       "2             Fossil BQ2125 FLYNN Watch  - For Men  ₹5,508\n",
       "3                                                   ₹3,834\n",
       "4              Sonata NF7924NL01C Watch  - For Men    ₹940"
      ]
     },
     "execution_count": 201,
     "metadata": {},
     "output_type": "execute_result"
    }
   ],
   "source": [
    "import pandas as pd\n",
    "df = pd.DataFrame(records, columns = ['name', 'price'])\n",
    "df.head()"
   ]
  },
  {
   "cell_type": "code",
   "execution_count": 202,
   "metadata": {},
   "outputs": [],
   "source": [
    "df.to_csv('watch.csv', index=False, encoding='utf-8')"
   ]
  },
  {
   "cell_type": "code",
   "execution_count": null,
   "metadata": {},
   "outputs": [],
   "source": []
  }
 ],
 "metadata": {
  "kernelspec": {
   "display_name": "Python [default]",
   "language": "python",
   "name": "python3"
  },
  "language_info": {
   "codemirror_mode": {
    "name": "ipython",
    "version": 3
   },
   "file_extension": ".py",
   "mimetype": "text/x-python",
   "name": "python",
   "nbconvert_exporter": "python",
   "pygments_lexer": "ipython3",
   "version": "3.6.5"
  }
 },
 "nbformat": 4,
 "nbformat_minor": 2
}
